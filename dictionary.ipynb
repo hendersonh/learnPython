{
  "nbformat": 4,
  "nbformat_minor": 0,
  "metadata": {
    "colab": {
      "name": "dictionary.ipynb",
      "version": "0.3.2",
      "provenance": [],
      "collapsed_sections": [],
      "include_colab_link": true
    },
    "kernelspec": {
      "name": "python3",
      "display_name": "Python 3"
    }
  },
  "cells": [
    {
      "cell_type": "markdown",
      "metadata": {
        "id": "view-in-github",
        "colab_type": "text"
      },
      "source": [
        "<a href=\"https://colab.research.google.com/github/hendersonh/learnPython/blob/master/dictionary.ipynb\" target=\"_parent\"><img src=\"https://colab.research.google.com/assets/colab-badge.svg\" alt=\"Open In Colab\"/></a>"
      ]
    },
    {
      "metadata": {
        "id": "hOlQHkq5oMP_",
        "colab_type": "text"
      },
      "cell_type": "markdown",
      "source": [
        "##Initializing a dictionary: several methods available"
      ]
    },
    {
      "metadata": {
        "id": "gEJzdqCglIoy",
        "colab_type": "code",
        "colab": {}
      },
      "cell_type": "code",
      "source": [
        "## ways to initialize a dictionary\n",
        "D = dict(name='Bob', job='dev', age=40)\n",
        "D = {'food': 'Spam', 'quantity': 4, 'color': 'pink'}\n",
        "\n",
        "## Nesting of dictionary\n",
        "rec = {'name': {'first': 'Bob', 'last': 'Smith'}, 'job': ['dev', 'mgr'], 'age': 40.5}\n",
        "\n",
        "rec['name'] # ' name ' is a nested dictionary {'last': 'Smith', 'first': 'Bob'}\n",
        "\n",
        "rec['name']['last'] # Index the nested dictionary 'Smith'\n",
        "\n",
        "rec['job'] # ' job ' is a nested list ['dev', 'mgr'] >>> rec['job'][-1] # Index the nested list\n",
        "\n",
        "rec['job'].append('janitor') # Expand Bob ' s job description in-place \n",
        "                             #>>> rec {'age': 40.5, 'job': ['dev', 'mgr', 'janitor'], \n",
        "                             #'name': {'last': 'Smith', 'first': 'Bob'}}\n",
        "        "
      ],
      "execution_count": 0,
      "outputs": []
    },
    {
      "metadata": {
        "id": "QCdbCG_j3dUy",
        "colab_type": "code",
        "colab": {}
      },
      "cell_type": "code",
      "source": [
        "## another way to initialize a dictionary: initializing from two list with zip\n",
        "key_list = ['a', 'b', 'c', 'd']\n",
        "value_list = [1, 2, 3, 4]\n",
        "D = dict(zip(key_list, value_list))\n",
        "D     "
      ],
      "execution_count": 0,
      "outputs": []
    },
    {
      "metadata": {
        "id": "RbSALwo6x3oo",
        "colab_type": "text"
      },
      "cell_type": "markdown",
      "source": [
        "##Referencing a non existant key will cause an exception error: KeyError"
      ]
    },
    {
      "metadata": {
        "id": "HuVcZi4IyclA",
        "colab_type": "code",
        "colab": {}
      },
      "cell_type": "code",
      "source": [
        "##one way to prevent this KeyError: check if key exist\n",
        "D = dict(a=1, b=2, c=3)\n",
        "value = D['x'] if 'x' in D else 0 \n"
      ],
      "execution_count": 0,
      "outputs": []
    }
  ]
}